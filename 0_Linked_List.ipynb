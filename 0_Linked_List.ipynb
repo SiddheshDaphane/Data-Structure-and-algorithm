{
 "cells": [
  {
   "attachments": {},
   "cell_type": "markdown",
   "metadata": {},
   "source": [
    "## Linked Lists"
   ]
  },
  {
   "attachments": {},
   "cell_type": "markdown",
   "metadata": {},
   "source": [
    "### 1. Creating a Node"
   ]
  },
  {
   "cell_type": "code",
   "execution_count": 3,
   "metadata": {},
   "outputs": [],
   "source": [
    "class Node:\n",
    "    \n",
    "    def __init__(self, value, next = None):\n",
    "        \n",
    "        self.value = value\n",
    "        self.next = next"
   ]
  },
  {
   "cell_type": "code",
   "execution_count": 4,
   "metadata": {},
   "outputs": [
    {
     "name": "stdout",
     "output_type": "stream",
     "text": [
      "<__main__.Node object at 0x1074663e0>\n",
      "2\n"
     ]
    },
    {
     "data": {
      "text/plain": [
       "(<__main__.Node at 0x1074663e0>, None, None)"
      ]
     },
     "execution_count": 4,
     "metadata": {},
     "output_type": "execute_result"
    }
   ],
   "source": [
    "Node1 = Node(2)\n",
    "Node1, print(Node1), print(Node1.value)"
   ]
  },
  {
   "cell_type": "code",
   "execution_count": 5,
   "metadata": {},
   "outputs": [
    {
     "data": {
      "text/plain": [
       "(2, None)"
      ]
     },
     "execution_count": 5,
     "metadata": {},
     "output_type": "execute_result"
    }
   ],
   "source": [
    "Node1.value, Node1.next"
   ]
  },
  {
   "cell_type": "code",
   "execution_count": 6,
   "metadata": {},
   "outputs": [
    {
     "name": "stdout",
     "output_type": "stream",
     "text": [
      "<__main__.Node object at 0x107467910>\n",
      "4\n"
     ]
    },
    {
     "data": {
      "text/plain": [
       "(<__main__.Node at 0x107467910>, None, None)"
      ]
     },
     "execution_count": 6,
     "metadata": {},
     "output_type": "execute_result"
    }
   ],
   "source": [
    "Node2 = Node(4)\n",
    "Node2, print(Node2), print(Node2.value)"
   ]
  },
  {
   "cell_type": "code",
   "execution_count": 7,
   "metadata": {},
   "outputs": [
    {
     "data": {
      "text/plain": [
       "(4, None)"
      ]
     },
     "execution_count": 7,
     "metadata": {},
     "output_type": "execute_result"
    }
   ],
   "source": [
    "Node2.value, Node2.next"
   ]
  },
  {
   "attachments": {},
   "cell_type": "markdown",
   "metadata": {},
   "source": [
    "### 2. Creating a Linked List"
   ]
  },
  {
   "cell_type": "code",
   "execution_count": 8,
   "metadata": {},
   "outputs": [],
   "source": [
    "class LinkedList:\n",
    "    \n",
    "    def __init__(self):\n",
    "\n",
    "        # Creating a empty linked list and then we can add different nodes to it.\n",
    "        self.head = None \n",
    "\n",
    "        # Number of nodes in LinkedList\n",
    "        self.n = 0\n",
    "\n",
    "    def __len__(self):\n",
    "        return self.n"
   ]
  },
  {
   "cell_type": "code",
   "execution_count": 9,
   "metadata": {},
   "outputs": [
    {
     "data": {
      "text/plain": [
       "<__main__.LinkedList at 0x107532e90>"
      ]
     },
     "execution_count": 9,
     "metadata": {},
     "output_type": "execute_result"
    }
   ],
   "source": [
    "L = LinkedList()\n",
    "L"
   ]
  },
  {
   "cell_type": "code",
   "execution_count": 10,
   "metadata": {},
   "outputs": [
    {
     "name": "stdout",
     "output_type": "stream",
     "text": [
      "None\n"
     ]
    }
   ],
   "source": [
    "print(L.head)"
   ]
  },
  {
   "cell_type": "code",
   "execution_count": 11,
   "metadata": {},
   "outputs": [
    {
     "data": {
      "text/plain": [
       "0"
      ]
     },
     "execution_count": 11,
     "metadata": {},
     "output_type": "execute_result"
    }
   ],
   "source": [
    "len(L)"
   ]
  },
  {
   "attachments": {},
   "cell_type": "markdown",
   "metadata": {},
   "source": [
    "### 3. Inserting at head"
   ]
  },
  {
   "cell_type": "code",
   "execution_count": 12,
   "metadata": {},
   "outputs": [],
   "source": [
    "class LinkedList:\n",
    "    \n",
    "    def __init__(self):\n",
    "\n",
    "        # Creating a empty linked list and then we can add different nodes to it.\n",
    "        self.head = None \n",
    "\n",
    "        # Number of nodes in LinkedList\n",
    "        self.n = 0\n",
    "\n",
    "    def __len__(self):\n",
    "        return self.n\n",
    "    \n",
    "    def insert_at_head(self, new_val):\n",
    "        # Create a node\n",
    "        new_node = Node(new_val)\n",
    "\n",
    "        # Change the head of current linked list \n",
    "        new_node.next = self.head\n",
    "\n",
    "        # Change the head\n",
    "        self.head = new_node\n",
    "\n",
    "        # Increamenet n\n",
    "        self.n += 1"
   ]
  },
  {
   "cell_type": "code",
   "execution_count": 13,
   "metadata": {},
   "outputs": [
    {
     "name": "stdout",
     "output_type": "stream",
     "text": [
      "<__main__.LinkedList object at 0x1074c68c0>\n"
     ]
    }
   ],
   "source": [
    "L = LinkedList()\n",
    "print(L)"
   ]
  },
  {
   "cell_type": "code",
   "execution_count": 14,
   "metadata": {},
   "outputs": [],
   "source": [
    "L.insert_at_head(1)\n",
    "L.insert_at_head(2)\n",
    "L.insert_at_head(3)\n",
    "L.insert_at_head(4)\n"
   ]
  },
  {
   "cell_type": "code",
   "execution_count": 15,
   "metadata": {},
   "outputs": [
    {
     "data": {
      "text/plain": [
       "4"
      ]
     },
     "execution_count": 15,
     "metadata": {},
     "output_type": "execute_result"
    }
   ],
   "source": [
    "len(L)"
   ]
  },
  {
   "attachments": {},
   "cell_type": "markdown",
   "metadata": {},
   "source": [
    "### 4. Traverse and print"
   ]
  },
  {
   "cell_type": "code",
   "execution_count": 36,
   "metadata": {},
   "outputs": [],
   "source": [
    "class LinkedList:\n",
    "    \n",
    "    def __init__(self):\n",
    "\n",
    "        # Creating a empty linked list and then we can add different nodes to it.\n",
    "        self.head = None \n",
    "\n",
    "        # Number of nodes in LinkedList\n",
    "        self.n = 0\n",
    "\n",
    "\n",
    "    def __len__(self):\n",
    "        return self.n\n",
    "    \n",
    "    def insert_at_head(self, new_val):\n",
    "        # Create a node\n",
    "        new_node = Node(new_val)\n",
    "\n",
    "        # Change the head of current linked list \n",
    "        new_node.next = self.head\n",
    "\n",
    "        # Change the head\n",
    "        self.head = new_node\n",
    "\n",
    "        # Increamenet n\n",
    "        self.n += 1\n",
    "\n",
    "    \n",
    "    def __str__(self):\n",
    "        curr = self.head\n",
    "        result = ''\n",
    "        while curr != None:\n",
    "            result = result + str(curr.value) + '->'\n",
    "            curr = curr.next\n",
    "        return result[:-2]"
   ]
  },
  {
   "cell_type": "code",
   "execution_count": 37,
   "metadata": {},
   "outputs": [
    {
     "name": "stdout",
     "output_type": "stream",
     "text": [
      "\n"
     ]
    }
   ],
   "source": [
    "L = LinkedList()\n",
    "print(L)"
   ]
  },
  {
   "cell_type": "code",
   "execution_count": 38,
   "metadata": {},
   "outputs": [],
   "source": [
    "L.insert_at_head(1)\n",
    "L.insert_at_head(2)\n",
    "L.insert_at_head(3)\n",
    "L.insert_at_head(4)\n"
   ]
  },
  {
   "cell_type": "code",
   "execution_count": 39,
   "metadata": {},
   "outputs": [
    {
     "data": {
      "text/plain": [
       "4"
      ]
     },
     "execution_count": 39,
     "metadata": {},
     "output_type": "execute_result"
    }
   ],
   "source": [
    "len(L)"
   ]
  },
  {
   "cell_type": "code",
   "execution_count": 40,
   "metadata": {},
   "outputs": [
    {
     "name": "stdout",
     "output_type": "stream",
     "text": [
      "4->3->2->1\n"
     ]
    }
   ],
   "source": [
    "print(L)"
   ]
  },
  {
   "attachments": {},
   "cell_type": "markdown",
   "metadata": {},
   "source": [
    "### 5. Insert from tail"
   ]
  },
  {
   "cell_type": "code",
   "execution_count": 42,
   "metadata": {},
   "outputs": [],
   "source": [
    "class LinkedList:\n",
    "    \n",
    "    def __init__(self):\n",
    "\n",
    "        # Creating a empty linked list and then we can add different nodes to it.\n",
    "        self.head = None \n",
    "\n",
    "        # Number of nodes in LinkedList\n",
    "        self.n = 0\n",
    "\n",
    "\n",
    "    def __len__(self):\n",
    "        return self.n\n",
    "    \n",
    "    def insert_at_head(self, new_val):\n",
    "        # Create a node\n",
    "        new_node = Node(new_val)\n",
    "\n",
    "        # Change the head of current linked list \n",
    "        new_node.next = self.head\n",
    "\n",
    "        # Change the head\n",
    "        self.head = new_node\n",
    "\n",
    "        # Increamenet n\n",
    "        self.n += 1\n",
    "\n",
    "    \n",
    "    def __str__(self):\n",
    "        curr = self.head\n",
    "        result = ''\n",
    "        while curr != None:\n",
    "            result = result + str(curr.value) + '->'\n",
    "            curr = curr.next\n",
    "        return result[:-2]\n",
    "    \n",
    "    def insert_at_tail(self, new_value):\n",
    "        \n",
    "        # create a new node\n",
    "        new_node = Node(new_value)\n",
    "\n",
    "        # Traverse through the LL\n",
    "        curr = self.head\n",
    "        while curr.next != None:\n",
    "            curr = curr.next\n",
    "\n",
    "        # This loop will stop at the last node.\n",
    "        curr.next = new_node\n",
    "        \n",
    "    \n",
    "        \n",
    "        "
   ]
  },
  {
   "cell_type": "code",
   "execution_count": 43,
   "metadata": {},
   "outputs": [
    {
     "name": "stdout",
     "output_type": "stream",
     "text": [
      "\n"
     ]
    }
   ],
   "source": [
    "L = LinkedList()\n",
    "print(L)"
   ]
  },
  {
   "cell_type": "code",
   "execution_count": 44,
   "metadata": {},
   "outputs": [],
   "source": [
    "L.insert_at_head(1)\n",
    "L.insert_at_head(2)\n",
    "L.insert_at_head(3)\n",
    "L.insert_at_head(4)"
   ]
  },
  {
   "cell_type": "code",
   "execution_count": 45,
   "metadata": {},
   "outputs": [
    {
     "data": {
      "text/plain": [
       "4"
      ]
     },
     "execution_count": 45,
     "metadata": {},
     "output_type": "execute_result"
    }
   ],
   "source": [
    "len(L)"
   ]
  },
  {
   "cell_type": "code",
   "execution_count": 46,
   "metadata": {},
   "outputs": [
    {
     "name": "stdout",
     "output_type": "stream",
     "text": [
      "4->3->2->1->5\n"
     ]
    }
   ],
   "source": [
    "L.insert_at_tail(5)\n",
    "print(L)"
   ]
  },
  {
   "attachments": {},
   "cell_type": "markdown",
   "metadata": {},
   "source": [
    "****\n",
    "\n",
    "**But whatif empty linked-list is given? See below**\n",
    "\n",
    "****"
   ]
  },
  {
   "cell_type": "code",
   "execution_count": 47,
   "metadata": {},
   "outputs": [
    {
     "name": "stdout",
     "output_type": "stream",
     "text": [
      "\n"
     ]
    }
   ],
   "source": [
    "L = LinkedList()\n",
    "print(L)"
   ]
  },
  {
   "cell_type": "code",
   "execution_count": 48,
   "metadata": {},
   "outputs": [
    {
     "ename": "AttributeError",
     "evalue": "'NoneType' object has no attribute 'next'",
     "output_type": "error",
     "traceback": [
      "\u001b[0;31m---------------------------------------------------------------------------\u001b[0m",
      "\u001b[0;31mAttributeError\u001b[0m                            Traceback (most recent call last)",
      "Cell \u001b[0;32mIn[48], line 1\u001b[0m\n\u001b[0;32m----> 1\u001b[0m L\u001b[39m.\u001b[39;49minsert_at_tail(\u001b[39m1\u001b[39;49m)\n",
      "Cell \u001b[0;32mIn[42], line 44\u001b[0m, in \u001b[0;36mLinkedList.insert_at_tail\u001b[0;34m(self, new_value)\u001b[0m\n\u001b[1;32m     42\u001b[0m \u001b[39m# Traverse through the LL\u001b[39;00m\n\u001b[1;32m     43\u001b[0m curr \u001b[39m=\u001b[39m \u001b[39mself\u001b[39m\u001b[39m.\u001b[39mhead\n\u001b[0;32m---> 44\u001b[0m \u001b[39mwhile\u001b[39;00m curr\u001b[39m.\u001b[39;49mnext \u001b[39m!=\u001b[39m \u001b[39mNone\u001b[39;00m:\n\u001b[1;32m     45\u001b[0m     curr \u001b[39m=\u001b[39m curr\u001b[39m.\u001b[39mnext\n\u001b[1;32m     47\u001b[0m \u001b[39m# This loop will stop at the last node.\u001b[39;00m\n",
      "\u001b[0;31mAttributeError\u001b[0m: 'NoneType' object has no attribute 'next'"
     ]
    }
   ],
   "source": [
    "L.insert_at_tail(1)"
   ]
  },
  {
   "attachments": {},
   "cell_type": "markdown",
   "metadata": {},
   "source": [
    "### 5.1 Handling empty linked-list exception while inserting at tail."
   ]
  },
  {
   "cell_type": "code",
   "execution_count": 75,
   "metadata": {},
   "outputs": [],
   "source": [
    "class LinkedList:\n",
    "    \n",
    "    def __init__(self):\n",
    "\n",
    "        # Creating a empty linked list and then we can add different nodes to it.\n",
    "        self.head = None \n",
    "\n",
    "        # Number of nodes in LinkedList\n",
    "        self.n = 0\n",
    "\n",
    "\n",
    "    def __len__(self):\n",
    "        return self.n\n",
    "    \n",
    "    def insert_at_head(self, new_val):\n",
    "        # Create a node\n",
    "        new_node = Node(new_val)\n",
    "\n",
    "        # Change the head of current linked list \n",
    "        new_node.next = self.head\n",
    "\n",
    "        # Change the head\n",
    "        self.head = new_node\n",
    "\n",
    "        # Increamenet n\n",
    "        self.n += 1\n",
    "\n",
    "    \n",
    "    def __str__(self):\n",
    "        curr = self.head\n",
    "        result = ''\n",
    "        while curr != None:\n",
    "            result = result + str(curr.value) + '->'\n",
    "            curr = curr.next\n",
    "        return result[:-2]\n",
    "    \n",
    "    def insert_at_tail(self, new_value):\n",
    "        \n",
    "        # create a new node\n",
    "        new_node = Node(new_value)\n",
    "        \n",
    "        if self.head == None:\n",
    "            self.head = new_node\n",
    "            self.n += 1\n",
    "            return\n",
    "      \n",
    "        # Traverse through the LL\n",
    "        curr = self.head\n",
    "        while curr.next != None:\n",
    "            curr = curr.next\n",
    "\n",
    "        # This loop will stop at the last node.\n",
    "        curr.next = new_node\n",
    "        self.n += 1"
   ]
  },
  {
   "cell_type": "code",
   "execution_count": 76,
   "metadata": {},
   "outputs": [],
   "source": [
    "L = LinkedList()"
   ]
  },
  {
   "cell_type": "code",
   "execution_count": 77,
   "metadata": {},
   "outputs": [],
   "source": [
    "L.insert_at_tail(1)"
   ]
  },
  {
   "cell_type": "code",
   "execution_count": 78,
   "metadata": {},
   "outputs": [
    {
     "data": {
      "text/plain": [
       "1"
      ]
     },
     "execution_count": 78,
     "metadata": {},
     "output_type": "execute_result"
    }
   ],
   "source": [
    "len(L)"
   ]
  },
  {
   "cell_type": "code",
   "execution_count": 79,
   "metadata": {},
   "outputs": [
    {
     "name": "stdout",
     "output_type": "stream",
     "text": [
      "1\n"
     ]
    }
   ],
   "source": [
    "print(L)"
   ]
  },
  {
   "attachments": {},
   "cell_type": "markdown",
   "metadata": {},
   "source": [
    "### 6. Insert in the middle"
   ]
  },
  {
   "cell_type": "code",
   "execution_count": 80,
   "metadata": {},
   "outputs": [],
   "source": [
    "class LinkedList:\n",
    "    \n",
    "    def __init__(self):\n",
    "\n",
    "        # Creating a empty linked list and then we can add different nodes to it.\n",
    "        self.head = None \n",
    "\n",
    "        # Number of nodes in LinkedList\n",
    "        self.n = 0\n",
    "\n",
    "\n",
    "    def __len__(self):\n",
    "        return self.n\n",
    "    \n",
    "    def insert_at_head(self, new_val):\n",
    "        # Create a node\n",
    "        new_node = Node(new_val)\n",
    "\n",
    "        # Change the head of current linked list \n",
    "        new_node.next = self.head\n",
    "\n",
    "        # Change the head\n",
    "        self.head = new_node\n",
    "\n",
    "        # Increamenet n\n",
    "        self.n += 1\n",
    "\n",
    "    \n",
    "    def __str__(self):\n",
    "        curr = self.head\n",
    "        result = ''\n",
    "        while curr != None:\n",
    "            result = result + str(curr.value) + '->'\n",
    "            curr = curr.next\n",
    "        return result[:-2]\n",
    "    \n",
    "    def insert_at_tail(self, new_value):\n",
    "        \n",
    "        # create a new node\n",
    "        new_node = Node(new_value)\n",
    "        \n",
    "        if self.head == None:\n",
    "            self.head = new_node\n",
    "            self.n += 1\n",
    "            return\n",
    "      \n",
    "        # Traverse through the LL\n",
    "        curr = self.head\n",
    "        while curr.next != None:\n",
    "            curr = curr.next\n",
    "\n",
    "        # This loop will stop at the last node.\n",
    "        curr.next = new_node\n",
    "        self.n += 1\n",
    "\n",
    "    def insert_at_middle(self,after,new_value):\n",
    "        # Create a new node\n",
    "        new_node = Node(new_value)\n",
    "\n",
    "        # Traverse through the LL and stop at the \"after\" \n",
    "        curr = self.head\n",
    "        while curr != None:\n",
    "            # Chekcing if \"curr\" value is equal to \"after\" value and if it is then break the loop because we need that \"curr\" value\n",
    "            if curr.value == after:\n",
    "                break \n",
    "            curr = curr.next # This is IMP otherwise while loop will run infinite times. \n",
    "\n",
    "        # This \"if\" condition means we found the \"after\" value in our LL and now we are adding the new node to it. We used \"curr != None\" because let's assume that we didn't find the \"after\" value that means value of curr is \"None\" currently. \n",
    "        if curr != None:\n",
    "            new_node.next = curr.next \n",
    "            curr.next = new_node\n",
    "            self.n += 1\n",
    "        else:\n",
    "            return \"Item not found\""
   ]
  },
  {
   "cell_type": "code",
   "execution_count": 81,
   "metadata": {},
   "outputs": [],
   "source": [
    "L = LinkedList()"
   ]
  },
  {
   "cell_type": "code",
   "execution_count": 82,
   "metadata": {},
   "outputs": [],
   "source": [
    "L.insert_at_head(1)\n",
    "L.insert_at_head(2)\n",
    "L.insert_at_head(3)\n",
    "L.insert_at_head(4)\n"
   ]
  },
  {
   "cell_type": "code",
   "execution_count": 83,
   "metadata": {},
   "outputs": [
    {
     "name": "stdout",
     "output_type": "stream",
     "text": [
      "4->3->2->1\n"
     ]
    }
   ],
   "source": [
    "print(L)"
   ]
  },
  {
   "cell_type": "code",
   "execution_count": 84,
   "metadata": {},
   "outputs": [
    {
     "name": "stdout",
     "output_type": "stream",
     "text": [
      "4->3->30->2->1\n"
     ]
    }
   ],
   "source": [
    "L.insert_at_middle(3,30)\n",
    "print(L)"
   ]
  },
  {
   "cell_type": "code",
   "execution_count": 85,
   "metadata": {},
   "outputs": [
    {
     "data": {
      "text/plain": [
       "'Item not found'"
      ]
     },
     "execution_count": 85,
     "metadata": {},
     "output_type": "execute_result"
    }
   ],
   "source": [
    "L.insert_at_middle(50,30)"
   ]
  },
  {
   "attachments": {},
   "cell_type": "markdown",
   "metadata": {},
   "source": [
    "### 7. clearing the LL i.e. make empty LL. \n",
    "`Empty LL means head=None`"
   ]
  },
  {
   "cell_type": "code",
   "execution_count": 86,
   "metadata": {},
   "outputs": [],
   "source": [
    "class LinkedList:\n",
    "    \n",
    "    def __init__(self):\n",
    "\n",
    "        # Creating a empty linked list and then we can add different nodes to it.\n",
    "        self.head = None \n",
    "\n",
    "        # Number of nodes in LinkedList\n",
    "        self.n = 0\n",
    "\n",
    "\n",
    "    def __len__(self):\n",
    "        return self.n\n",
    "    \n",
    "    def insert_at_head(self, new_val):\n",
    "        # Create a node\n",
    "        new_node = Node(new_val)\n",
    "\n",
    "        # Change the head of current linked list \n",
    "        new_node.next = self.head\n",
    "\n",
    "        # Change the head\n",
    "        self.head = new_node\n",
    "\n",
    "        # Increamenet n\n",
    "        self.n += 1\n",
    "\n",
    "    \n",
    "    def __str__(self):\n",
    "        curr = self.head\n",
    "        result = ''\n",
    "        while curr != None:\n",
    "            result = result + str(curr.value) + '->'\n",
    "            curr = curr.next\n",
    "        return result[:-2]\n",
    "    \n",
    "    def insert_at_tail(self, new_value):\n",
    "        \n",
    "        # create a new node\n",
    "        new_node = Node(new_value)\n",
    "        \n",
    "        if self.head == None:\n",
    "            self.head = new_node\n",
    "            self.n += 1\n",
    "            return\n",
    "      \n",
    "        # Traverse through the LL\n",
    "        curr = self.head\n",
    "        while curr.next != None:\n",
    "            curr = curr.next\n",
    "\n",
    "        # This loop will stop at the last node.\n",
    "        curr.next = new_node\n",
    "        self.n += 1\n",
    "\n",
    "    def insert_at_middle(self,after,new_value):\n",
    "        # Create a new node\n",
    "        new_node = Node(new_value)\n",
    "\n",
    "        # Traverse through the LL and stop at the \"after\" \n",
    "        curr = self.head\n",
    "        while curr != None:\n",
    "            # Chekcing if \"curr\" value is equal to \"after\" value and if it is then break the loop because we need that \"curr\" value\n",
    "            if curr.value == after:\n",
    "                break \n",
    "            curr = curr.next # This is IMP otherwise while loop will run infinite times. \n",
    "\n",
    "        # This \"if\" condition means we found the \"after\" value in our LL and now we are adding the new node to it. We used \"curr != None\" because let's assume that we didn't find the \"after\" value that means value of curr is \"None\" currently. \n",
    "        if curr != None:\n",
    "            new_node.next = curr.next \n",
    "            curr.next = new_node\n",
    "            self.n += 1\n",
    "        else:\n",
    "            return \"Item not found\"\n",
    "        \n",
    "    def clear(self):\n",
    "        self.head=None\n",
    "        self.n = 0"
   ]
  },
  {
   "cell_type": "code",
   "execution_count": 87,
   "metadata": {},
   "outputs": [],
   "source": [
    "L = LinkedList()"
   ]
  },
  {
   "cell_type": "code",
   "execution_count": 88,
   "metadata": {},
   "outputs": [],
   "source": [
    "L = LinkedList()\n",
    "L.insert_at_head(1)\n",
    "L.insert_at_head(2)\n",
    "L.insert_at_head(3)\n",
    "L.insert_at_head(4)\n"
   ]
  },
  {
   "cell_type": "code",
   "execution_count": 89,
   "metadata": {},
   "outputs": [
    {
     "name": "stdout",
     "output_type": "stream",
     "text": [
      "4->3->2->1\n"
     ]
    }
   ],
   "source": [
    "print(L)"
   ]
  },
  {
   "cell_type": "code",
   "execution_count": 90,
   "metadata": {},
   "outputs": [
    {
     "name": "stdout",
     "output_type": "stream",
     "text": [
      "\n"
     ]
    }
   ],
   "source": [
    "L.clear()\n",
    "print(L)"
   ]
  },
  {
   "attachments": {},
   "cell_type": "markdown",
   "metadata": {},
   "source": [
    "### 8. Deleting from head"
   ]
  },
  {
   "cell_type": "code",
   "execution_count": 104,
   "metadata": {},
   "outputs": [],
   "source": [
    "class LinkedList:\n",
    "    \n",
    "    def __init__(self):\n",
    "\n",
    "        # Creating a empty linked list and then we can add different nodes to it.\n",
    "        self.head = None \n",
    "\n",
    "        # Number of nodes in LinkedList\n",
    "        self.n = 0\n",
    "\n",
    "\n",
    "    def __len__(self):\n",
    "        return self.n\n",
    "    \n",
    "    def insert_at_head(self, new_val):\n",
    "        # Create a node\n",
    "        new_node = Node(new_val)\n",
    "\n",
    "        # Change the head of current linked list \n",
    "        new_node.next = self.head\n",
    "\n",
    "        # Change the head\n",
    "        self.head = new_node\n",
    "\n",
    "        # Increamenet n\n",
    "        self.n += 1\n",
    "\n",
    "    \n",
    "    def __str__(self):\n",
    "        curr = self.head\n",
    "        result = ''\n",
    "        while curr != None:\n",
    "            result = result + str(curr.value) + '->'\n",
    "            curr = curr.next\n",
    "        return result[:-2]\n",
    "    \n",
    "    def insert_at_tail(self, new_value):\n",
    "        \n",
    "        # create a new node\n",
    "        new_node = Node(new_value)\n",
    "        \n",
    "        if self.head == None:\n",
    "            self.head = new_node\n",
    "            self.n += 1\n",
    "            return\n",
    "      \n",
    "        # Traverse through the LL\n",
    "        curr = self.head\n",
    "        while curr.next != None:\n",
    "            curr = curr.next\n",
    "\n",
    "        # This loop will stop at the last node.\n",
    "        curr.next = new_node\n",
    "        self.n += 1\n",
    "\n",
    "    def insert_at_middle(self,after,new_value):\n",
    "        # Create a new node\n",
    "        new_node = Node(new_value)\n",
    "\n",
    "        # Traverse through the LL and stop at the \"after\" \n",
    "        curr = self.head\n",
    "        while curr != None:\n",
    "            # Chekcing if \"curr\" value is equal to \"after\" value and if it is then break the loop because we need that \"curr\" value\n",
    "            if curr.value == after:\n",
    "                break \n",
    "            curr = curr.next # This is IMP otherwise while loop will run infinite times. \n",
    "\n",
    "        # This \"if\" condition means we found the \"after\" value in our LL and now we are adding the new node to it. We used \"curr != None\" because let's assume that we didn't find the \"after\" value that means value of curr is \"None\" currently. \n",
    "        if curr != None:\n",
    "            new_node.next = curr.next \n",
    "            curr.next = new_node\n",
    "            self.n += 1\n",
    "        else:\n",
    "            return \"Item not found\"\n",
    "        \n",
    "    def clear(self):\n",
    "        self.head=None\n",
    "        self.n = 0\n",
    "\n",
    "    def delete_head(self):\n",
    "        \n",
    "        if self.head == None:\n",
    "            return 'Empty Linked-List'\n",
    "        self.head = self.head.next"
   ]
  },
  {
   "cell_type": "code",
   "execution_count": 105,
   "metadata": {},
   "outputs": [],
   "source": [
    "L = LinkedList()\n",
    "L.insert_at_head(1)\n",
    "L.insert_at_head(2)\n",
    "L.insert_at_head(3)\n",
    "L.insert_at_head(4)\n"
   ]
  },
  {
   "cell_type": "code",
   "execution_count": 106,
   "metadata": {},
   "outputs": [
    {
     "name": "stdout",
     "output_type": "stream",
     "text": [
      "4->3->2->1\n"
     ]
    }
   ],
   "source": [
    "print(L)"
   ]
  },
  {
   "cell_type": "code",
   "execution_count": 114,
   "metadata": {},
   "outputs": [
    {
     "name": "stdout",
     "output_type": "stream",
     "text": [
      "\n"
     ]
    }
   ],
   "source": [
    "L.delete_head()\n",
    "print(L)"
   ]
  },
  {
   "attachments": {},
   "cell_type": "markdown",
   "metadata": {},
   "source": [
    "### 9. Delete from tail"
   ]
  },
  {
   "cell_type": "code",
   "execution_count": 133,
   "metadata": {},
   "outputs": [],
   "source": [
    "class LinkedList:\n",
    "    \n",
    "    def __init__(self):\n",
    "\n",
    "        # Creating a empty linked list and then we can add different nodes to it.\n",
    "        self.head = None \n",
    "\n",
    "        # Number of nodes in LinkedList\n",
    "        self.n = 0\n",
    "\n",
    "\n",
    "    def __len__(self):\n",
    "        return self.n\n",
    "    \n",
    "    def insert_at_head(self, new_val):\n",
    "        # Create a node\n",
    "        new_node = Node(new_val)\n",
    "\n",
    "        # Change the head of current linked list \n",
    "        new_node.next = self.head\n",
    "\n",
    "        # Change the head\n",
    "        self.head = new_node\n",
    "\n",
    "        # Increamenet n\n",
    "        self.n += 1\n",
    "\n",
    "    \n",
    "    def __str__(self):\n",
    "        curr = self.head\n",
    "        result = ''\n",
    "        while curr != None:\n",
    "            result = result + str(curr.value) + '->'\n",
    "            curr = curr.next\n",
    "        return result[:-2]\n",
    "    \n",
    "    def insert_at_tail(self, new_value):\n",
    "        \n",
    "        # create a new node\n",
    "        new_node = Node(new_value)\n",
    "        \n",
    "        if self.head == None:\n",
    "            self.head = new_node\n",
    "            self.n += 1\n",
    "            return\n",
    "      \n",
    "        # Traverse through the LL\n",
    "        curr = self.head\n",
    "        while curr.next != None:\n",
    "            curr = curr.next\n",
    "\n",
    "        # This loop will stop at the last node.\n",
    "        curr.next = new_node\n",
    "        self.n += 1\n",
    "\n",
    "    def insert_at_middle(self,after,new_value):\n",
    "        # Create a new node\n",
    "        new_node = Node(new_value)\n",
    "\n",
    "        # Traverse through the LL and stop at the \"after\" \n",
    "        curr = self.head\n",
    "        while curr != None:\n",
    "            # Chekcing if \"curr\" value is equal to \"after\" value and if it is then break the loop because we need that \"curr\" value\n",
    "            if curr.value == after:\n",
    "                break \n",
    "            curr = curr.next # This is IMP otherwise while loop will run infinite times. \n",
    "\n",
    "        # This \"if\" condition means we found the \"after\" value in our LL and now we are adding the new node to it. We used \"curr != None\" because let's assume that we didn't find the \"after\" value that means value of curr is \"None\" currently. \n",
    "        if curr != None:\n",
    "            new_node.next = curr.next \n",
    "            curr.next = new_node\n",
    "            self.n += 1\n",
    "        else:\n",
    "            return \"Item not found\"\n",
    "        \n",
    "    def clear(self):\n",
    "        self.head=None\n",
    "        self.n = 0\n",
    "\n",
    "    def delete_head(self):\n",
    "        \n",
    "        if self.head == None:\n",
    "            return 'Empty Linked-List'\n",
    "        self.head = self.head.next\n",
    "        self.n -= 1\n",
    "\n",
    "    def delete_tail(self):\n",
    "\n",
    "        if self.head == None:\n",
    "            return \"Empty Linked List\"\n",
    "        \n",
    "        curr = self.head \n",
    "\n",
    "        # If you have only 1 item in the Linked List then\n",
    "        if curr.next == None:\n",
    "            return self.delete_head()\n",
    "\n",
    "        while curr.next.next != None:\n",
    "            curr = curr.next\n",
    "\n",
    "        # curr now is at 2nd last node\n",
    "        curr.next = None\n",
    "        self.n -= 1"
   ]
  },
  {
   "cell_type": "code",
   "execution_count": 134,
   "metadata": {},
   "outputs": [],
   "source": [
    "L = LinkedList()\n",
    "L.insert_at_head(1)\n",
    "L.insert_at_head(2)\n",
    "L.insert_at_head(3)\n",
    "L.insert_at_head(4)\n"
   ]
  },
  {
   "cell_type": "code",
   "execution_count": 135,
   "metadata": {},
   "outputs": [
    {
     "name": "stdout",
     "output_type": "stream",
     "text": [
      "4->3->2->1\n"
     ]
    }
   ],
   "source": [
    "print(L)"
   ]
  },
  {
   "cell_type": "code",
   "execution_count": 143,
   "metadata": {},
   "outputs": [
    {
     "name": "stdout",
     "output_type": "stream",
     "text": [
      "\n"
     ]
    }
   ],
   "source": [
    "L.delete_tail()\n",
    "print(L)"
   ]
  },
  {
   "attachments": {},
   "cell_type": "markdown",
   "metadata": {},
   "source": [
    "### 10. Delete by value"
   ]
  },
  {
   "cell_type": "code",
   "execution_count": 188,
   "metadata": {},
   "outputs": [],
   "source": [
    "class LinkedList:\n",
    "    \n",
    "    def __init__(self):\n",
    "\n",
    "        # Creating a empty linked list and then we can add different nodes to it.\n",
    "        self.head = None \n",
    "\n",
    "        # Number of nodes in LinkedList\n",
    "        self.n = 0\n",
    "\n",
    "\n",
    "    def __len__(self):\n",
    "        return self.n\n",
    "    \n",
    "    def insert_at_head(self, new_val):\n",
    "        # Create a node\n",
    "        new_node = Node(new_val)\n",
    "\n",
    "        # Change the head of current linked list \n",
    "        new_node.next = self.head\n",
    "\n",
    "        # Change the head\n",
    "        self.head = new_node\n",
    "\n",
    "        # Increamenet n\n",
    "        self.n += 1\n",
    "\n",
    "    \n",
    "    def __str__(self):\n",
    "        curr = self.head\n",
    "        result = ''\n",
    "        while curr != None:\n",
    "            result = result + str(curr.value) + '->'\n",
    "            curr = curr.next\n",
    "        return result[:-2]\n",
    "    \n",
    "    def insert_at_tail(self, new_value):\n",
    "        \n",
    "        # create a new node\n",
    "        new_node = Node(new_value)\n",
    "        \n",
    "        if self.head == None:\n",
    "            self.head = new_node\n",
    "            self.n += 1\n",
    "            return\n",
    "      \n",
    "        # Traverse through the LL\n",
    "        curr = self.head\n",
    "        while curr.next != None:\n",
    "            curr = curr.next\n",
    "\n",
    "        # This loop will stop at the last node.\n",
    "        curr.next = new_node\n",
    "        self.n += 1\n",
    "\n",
    "    def insert_at_middle(self,after,new_value):\n",
    "        # Create a new node\n",
    "        new_node = Node(new_value)\n",
    "\n",
    "        # Traverse through the LL and stop at the \"after\" \n",
    "        curr = self.head\n",
    "        while curr != None:\n",
    "            # Chekcing if \"curr\" value is equal to \"after\" value and if it is then break the loop because we need that \"curr\" value\n",
    "            if curr.value == after:\n",
    "                break \n",
    "            curr = curr.next # This is IMP otherwise while loop will run infinite times. \n",
    "\n",
    "        # This \"if\" condition means we found the \"after\" value in our LL and now we are adding the new node to it. We used \"curr != None\" because let's assume that we didn't find the \"after\" value that means value of curr is \"None\" currently. \n",
    "        if curr != None:\n",
    "            new_node.next = curr.next \n",
    "            curr.next = new_node\n",
    "            self.n += 1\n",
    "        else:\n",
    "            return \"Item not found\"\n",
    "        \n",
    "    def clear(self):\n",
    "        self.head=None\n",
    "        self.n = 0\n",
    "\n",
    "    def delete_head(self):\n",
    "        \n",
    "        if self.head == None:\n",
    "            return 'Empty Linked-List'\n",
    "        self.head = self.head.next\n",
    "        self.n -= 1\n",
    "\n",
    "    def delete_tail(self):\n",
    "\n",
    "        if self.head == None:\n",
    "            return \"Empty Linked List\"\n",
    "        \n",
    "        curr = self.head \n",
    "\n",
    "        # If you have only 1 item in the Linked List then\n",
    "        if curr.next == None:\n",
    "            return self.delete_head()\n",
    "\n",
    "        while curr.next.next != None:\n",
    "            curr = curr.next\n",
    "\n",
    "        # curr now is at 2nd last node\n",
    "        curr.next = None\n",
    "        self.n -= 1\n",
    "\n",
    "    def remove(self, delete_value):\n",
    "\n",
    "        if self.head == None:\n",
    "            print(\"Empty Linked List\")\n",
    "\n",
    "        if self.head.value == delete_value:\n",
    "            return self.delete_head()\n",
    "\n",
    "        curr = self.head\n",
    "\n",
    "        while curr.next != None:\n",
    "            if curr.next.value == delete_value:\n",
    "                break\n",
    "            curr = curr.next\n",
    "        \n",
    "        # check if value found or not\n",
    "        if curr.next == None:\n",
    "            print(\"Not found\")\n",
    "        else:\n",
    "            curr.next = curr.next.next"
   ]
  },
  {
   "cell_type": "code",
   "execution_count": 189,
   "metadata": {},
   "outputs": [],
   "source": [
    "L = LinkedList()\n",
    "L.insert_at_head(1)\n",
    "L.insert_at_head(2)\n",
    "L.insert_at_head(3)\n",
    "L.insert_at_head(4)\n"
   ]
  },
  {
   "cell_type": "code",
   "execution_count": 190,
   "metadata": {},
   "outputs": [
    {
     "name": "stdout",
     "output_type": "stream",
     "text": [
      "4->3->2->1\n"
     ]
    }
   ],
   "source": [
    "print(L)"
   ]
  },
  {
   "cell_type": "code",
   "execution_count": 200,
   "metadata": {},
   "outputs": [
    {
     "name": "stdout",
     "output_type": "stream",
     "text": [
      "Empty Linked List\n"
     ]
    },
    {
     "ename": "AttributeError",
     "evalue": "'NoneType' object has no attribute 'value'",
     "output_type": "error",
     "traceback": [
      "\u001b[0;31m---------------------------------------------------------------------------\u001b[0m",
      "\u001b[0;31mAttributeError\u001b[0m                            Traceback (most recent call last)",
      "Cell \u001b[0;32mIn[200], line 1\u001b[0m\n\u001b[0;32m----> 1\u001b[0m L\u001b[39m.\u001b[39;49mremove(\u001b[39m10\u001b[39;49m)\n",
      "Cell \u001b[0;32mIn[188], line 110\u001b[0m, in \u001b[0;36mLinkedList.remove\u001b[0;34m(self, delete_value)\u001b[0m\n\u001b[1;32m    107\u001b[0m \u001b[39mif\u001b[39;00m \u001b[39mself\u001b[39m\u001b[39m.\u001b[39mhead \u001b[39m==\u001b[39m \u001b[39mNone\u001b[39;00m:\n\u001b[1;32m    108\u001b[0m     \u001b[39mprint\u001b[39m(\u001b[39m\"\u001b[39m\u001b[39mEmpty Linked List\u001b[39m\u001b[39m\"\u001b[39m)\n\u001b[0;32m--> 110\u001b[0m \u001b[39mif\u001b[39;00m \u001b[39mself\u001b[39;49m\u001b[39m.\u001b[39;49mhead\u001b[39m.\u001b[39;49mvalue \u001b[39m==\u001b[39m delete_value:\n\u001b[1;32m    111\u001b[0m     \u001b[39mreturn\u001b[39;00m \u001b[39mself\u001b[39m\u001b[39m.\u001b[39mdelete_head()\n\u001b[1;32m    113\u001b[0m curr \u001b[39m=\u001b[39m \u001b[39mself\u001b[39m\u001b[39m.\u001b[39mhead\n",
      "\u001b[0;31mAttributeError\u001b[0m: 'NoneType' object has no attribute 'value'"
     ]
    }
   ],
   "source": [
    "L.remove(10)\n"
   ]
  },
  {
   "cell_type": "code",
   "execution_count": 201,
   "metadata": {},
   "outputs": [
    {
     "name": "stdout",
     "output_type": "stream",
     "text": [
      "\n"
     ]
    }
   ],
   "source": [
    "print(L)"
   ]
  },
  {
   "attachments": {},
   "cell_type": "markdown",
   "metadata": {},
   "source": [
    "### 11. Search value"
   ]
  },
  {
   "cell_type": "code",
   "execution_count": 202,
   "metadata": {},
   "outputs": [],
   "source": [
    "class LinkedList:\n",
    "    \n",
    "    def __init__(self):\n",
    "\n",
    "        # Creating a empty linked list and then we can add different nodes to it.\n",
    "        self.head = None \n",
    "\n",
    "        # Number of nodes in LinkedList\n",
    "        self.n = 0\n",
    "\n",
    "\n",
    "    def __len__(self):\n",
    "        return self.n\n",
    "    \n",
    "    def insert_at_head(self, new_val):\n",
    "        # Create a node\n",
    "        new_node = Node(new_val)\n",
    "\n",
    "        # Change the head of current linked list \n",
    "        new_node.next = self.head\n",
    "\n",
    "        # Change the head\n",
    "        self.head = new_node\n",
    "\n",
    "        # Increamenet n\n",
    "        self.n += 1\n",
    "\n",
    "    \n",
    "    def __str__(self):\n",
    "        curr = self.head\n",
    "        result = ''\n",
    "        while curr != None:\n",
    "            result = result + str(curr.value) + '->'\n",
    "            curr = curr.next\n",
    "        return result[:-2]\n",
    "    \n",
    "    def insert_at_tail(self, new_value):\n",
    "        \n",
    "        # create a new node\n",
    "        new_node = Node(new_value)\n",
    "        \n",
    "        if self.head == None:\n",
    "            self.head = new_node\n",
    "            self.n += 1\n",
    "            return\n",
    "      \n",
    "        # Traverse through the LL\n",
    "        curr = self.head\n",
    "        while curr.next != None:\n",
    "            curr = curr.next\n",
    "\n",
    "        # This loop will stop at the last node.\n",
    "        curr.next = new_node\n",
    "        self.n += 1\n",
    "\n",
    "    def insert_at_middle(self,after,new_value):\n",
    "        # Create a new node\n",
    "        new_node = Node(new_value)\n",
    "\n",
    "        # Traverse through the LL and stop at the \"after\" \n",
    "        curr = self.head\n",
    "        while curr != None:\n",
    "            # Chekcing if \"curr\" value is equal to \"after\" value and if it is then break the loop because we need that \"curr\" value\n",
    "            if curr.value == after:\n",
    "                break \n",
    "            curr = curr.next # This is IMP otherwise while loop will run infinite times. \n",
    "\n",
    "        # This \"if\" condition means we found the \"after\" value in our LL and now we are adding the new node to it. We used \"curr != None\" because let's assume that we didn't find the \"after\" value that means value of curr is \"None\" currently. \n",
    "        if curr != None:\n",
    "            new_node.next = curr.next \n",
    "            curr.next = new_node\n",
    "            self.n += 1\n",
    "        else:\n",
    "            return \"Item not found\"\n",
    "        \n",
    "    def clear(self):\n",
    "        self.head=None\n",
    "        self.n = 0\n",
    "\n",
    "    def delete_head(self):\n",
    "        \n",
    "        if self.head == None:\n",
    "            return 'Empty Linked-List'\n",
    "        self.head = self.head.next\n",
    "        self.n -= 1\n",
    "\n",
    "    def delete_tail(self):\n",
    "\n",
    "        if self.head == None:\n",
    "            return \"Empty Linked List\"\n",
    "        \n",
    "        curr = self.head \n",
    "\n",
    "        # If you have only 1 item in the Linked List then\n",
    "        if curr.next == None:\n",
    "            return self.delete_head()\n",
    "\n",
    "        while curr.next.next != None:\n",
    "            curr = curr.next\n",
    "\n",
    "        # curr now is at 2nd last node\n",
    "        curr.next = None\n",
    "        self.n -= 1\n",
    "\n",
    "    def remove(self, delete_value):\n",
    "\n",
    "        if self.head == None:\n",
    "            print(\"Empty Linked List\")\n",
    "\n",
    "        if self.head.value == delete_value:\n",
    "            return self.delete_head()\n",
    "\n",
    "        curr = self.head\n",
    "\n",
    "        while curr.next != None:\n",
    "            if curr.next.value == delete_value:\n",
    "                break\n",
    "            curr = curr.next\n",
    "        \n",
    "        # check if value found or not\n",
    "        if curr.next == None:\n",
    "            print(\"Not found\")\n",
    "        else:\n",
    "            curr.next = curr.next.next\n",
    "\n",
    "    def search(self, item):\n",
    "        curr = self.head\n",
    "        position = 0\n",
    "\n",
    "        while curr != None:\n",
    "            if curr.value == item:\n",
    "                return position\n",
    "            curr = curr.next \n",
    "            position += 1\n",
    "\n",
    "        print(\"Not found\")\n"
   ]
  },
  {
   "cell_type": "code",
   "execution_count": 203,
   "metadata": {},
   "outputs": [],
   "source": [
    "L = LinkedList()\n",
    "L.insert_at_head(1)\n",
    "L.insert_at_head(2)\n",
    "L.insert_at_head(3)\n",
    "L.insert_at_head(4)\n"
   ]
  },
  {
   "cell_type": "code",
   "execution_count": 204,
   "metadata": {},
   "outputs": [
    {
     "name": "stdout",
     "output_type": "stream",
     "text": [
      "4->3->2->1\n"
     ]
    }
   ],
   "source": [
    "print(L)"
   ]
  },
  {
   "cell_type": "code",
   "execution_count": 209,
   "metadata": {},
   "outputs": [
    {
     "name": "stdout",
     "output_type": "stream",
     "text": [
      "Not found\n"
     ]
    }
   ],
   "source": [
    "L.search(10)"
   ]
  },
  {
   "cell_type": "code",
   "execution_count": null,
   "metadata": {},
   "outputs": [],
   "source": []
  }
 ],
 "metadata": {
  "kernelspec": {
   "display_name": "python_ds",
   "language": "python",
   "name": "python3"
  },
  "language_info": {
   "codemirror_mode": {
    "name": "ipython",
    "version": 3
   },
   "file_extension": ".py",
   "mimetype": "text/x-python",
   "name": "python",
   "nbconvert_exporter": "python",
   "pygments_lexer": "ipython3",
   "version": "3.10.13"
  },
  "orig_nbformat": 4,
  "vscode": {
   "interpreter": {
    "hash": "7e62015e6b186da99cb8ad678637cceaa2b225465cd54bda86f729cbc8f9c829"
   }
  }
 },
 "nbformat": 4,
 "nbformat_minor": 2
}
